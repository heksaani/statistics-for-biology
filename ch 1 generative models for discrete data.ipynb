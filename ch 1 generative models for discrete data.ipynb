{
 "cells": [
  {
   "cell_type": "markdown",
   "id": "d621d92d",
   "metadata": {},
   "source": [
    "# Generative Models for Discrete Data \n",
    "Book by: Susan Holmes and Wolfgang Huber"
   ]
  },
  {
   "cell_type": "markdown",
   "id": "fdab5375",
   "metadata": {},
   "source": [
    "**probability model** - predicts the occutence of some event  <br>\n",
    "HIV-genome size = $10^4$ <br>\n",
    "Mutations per replication cycle is 5 and this follows Poisson distribution: <br>\n",
    "$e^{-λ}λ^{x}/x!$ <br>\n",
    "Poisson Distribution is used to provide information of rare evens (probability of succes is very small, but the number of trials is large)"
   ]
  },
  {
   "cell_type": "markdown",
   "id": "fd635052",
   "metadata": {},
   "source": [
    "How often we see 3 mutations when the predicted number of mutations after \n",
    "one cycle is 5"
   ]
  },
  {
   "cell_type": "code",
   "execution_count": 17,
   "id": "51ca29fe",
   "metadata": {},
   "outputs": [
    {
     "name": "stdout",
     "output_type": "stream",
     "text": [
      "[1] 0.1403739\n"
     ]
    }
   ],
   "source": [
    "D  = dpois(x= 3 , lambda = 5) \n",
    "print(D)"
   ]
  },
  {
   "cell_type": "markdown",
   "id": "67be587c",
   "metadata": {},
   "source": [
    "This means that the probability of seeing **exactly** three mutations after one replication cycle is 14% "
   ]
  },
  {
   "cell_type": "code",
   "execution_count": 18,
   "id": "a108bed4",
   "metadata": {},
   "outputs": [
    {
     "data": {
      "text/plain": [
       "genotype\n",
       "AA AB AO BB BO OO \n",
       " 2  2  7  3  3  2 "
      ]
     },
     "metadata": {},
     "output_type": "display_data"
    }
   ],
   "source": [
    "genotype = c(\"AA\", \"AO\", \"BB\", \"AO\", \"OO\", \"AA\", \"BO\", \"BO\", \"AO\", \"BB\",\n",
    "             \"AO\", \"BO\", \"AB\", \"OO\", \"AB\", \"BB\", \"AO\", \"AO\", \"AO\")\n",
    "table(genotype)"
   ]
  },
  {
   "cell_type": "markdown",
   "id": "54f41646",
   "metadata": {},
   "source": [
    "## A generative model for epitope detection:\n",
    "**Epitopes** - molecular sites responsible of allergic reactions. <br>\n",
    "\"A spesific portion of a macromolecular antigen to which an antibody binds.\" "
   ]
  },
  {
   "cell_type": "markdown",
   "id": "335a25b7",
   "metadata": {},
   "source": [
    "**ELISA** Enzyme-linked immunosorbent assay is used to recognize specific epitopes. <br>\n",
    "- the baseline noise per level (false positive rate) 1% <br>\n",
    "- protein is tested at 100 different positions (independent)"
   ]
  },
  {
   "cell_type": "code",
   "execution_count": 58,
   "id": "29e8df70",
   "metadata": {},
   "outputs": [
    {
     "data": {
      "text/html": [
       "100"
      ],
      "text/latex": [
       "100"
      ],
      "text/markdown": [
       "100"
      ],
      "text/plain": [
       "[1] 100"
      ]
     },
     "metadata": {},
     "output_type": "display_data"
    },
    {
     "data": {
      "text/html": [
       "1.00237960287686e-06"
      ],
      "text/latex": [
       "1.00237960287686e-06"
      ],
      "text/markdown": [
       "1.00237960287686e-06"
      ],
      "text/plain": [
       "[1] 1.00238e-06"
      ]
     },
     "metadata": {},
     "output_type": "display_data"
    },
    {
     "data": {
      "text/html": [
       "1.0023796028843e-06"
      ],
      "text/latex": [
       "1.0023796028843e-06"
      ],
      "text/markdown": [
       "1.0023796028843e-06"
      ],
      "text/plain": [
       "[1] 1.00238e-06"
      ]
     },
     "metadata": {},
     "output_type": "display_data"
    }
   ],
   "source": [
    "data_patient = c(0,1,0,0,0,0,0,0,0,0,0,0,0,0,0,0,0,0,0,0,0,0,0,0,0,0,0,0,0,0,\n",
    "                 0,0,0,0,0,0,0,0,0,0,0,0,0,0,0,0,0,0,0,0,0,0,0,0,0,0,0,0,0,0,\n",
    "                 0,0,0,0,0,0,0,0,0,0,0,0,0,0,0,0,0,0,0,0,0,0,0,0,0,0,0,0,0,0,\n",
    "                0,0,0,0,0,0,0,0,0,0)\n",
    "length(data_patient)\n",
    "1-ppois(6, 0.5)\n",
    "ppois(6, 0.5, lower.tail = FALSE)"
   ]
  },
  {
   "cell_type": "markdown",
   "id": "e97b7428",
   "metadata": {},
   "source": [
    "**Computing probabilities by simulation:** <br>\n",
    "**Monte Carlo method** <br>\n",
    "simulation based on generative model, to predict probabilities of even's of interest"
   ]
  },
  {
   "cell_type": "code",
   "execution_count": 62,
   "id": "9c30cbd5",
   "metadata": {},
   "outputs": [
    {
     "data": {
      "text/plain": [
       "maxes\n",
       "    1     2     3     4     5     6     7     8     9 \n",
       "   12 23367 60580 14286  1616   126    11     1     1 "
      ]
     },
     "metadata": {},
     "output_type": "display_data"
    }
   ],
   "source": [
    "# generating 100,000 instances of picking the the maximum from 100\n",
    "# Poisson distributed numbers.\n",
    "maxes = replicate(100000, {\n",
    "    max(rpois(100, 0.5))\n",
    "})\n",
    "table(maxes)"
   ]
  },
  {
   "cell_type": "code",
   "execution_count": 65,
   "id": "266edda5",
   "metadata": {},
   "outputs": [
    {
     "data": {
      "text/html": [
       "0.00013"
      ],
      "text/latex": [
       "0.00013"
      ],
      "text/markdown": [
       "0.00013"
      ],
      "text/plain": [
       "[1] 0.00013"
      ]
     },
     "metadata": {},
     "output_type": "display_data"
    }
   ],
   "source": [
    "mean(maxes >= 7) # probability of seeing a number 7 or higher "
   ]
  },
  {
   "cell_type": "markdown",
   "id": "67a5b21b",
   "metadata": {},
   "source": [
    "## Multinomial distributions : the case of DNA <br>\n",
    "\n",
    "Multinomial distributions - when there is more than two outcomes. Levels of discrete categorical variable. <br>\n",
    "EXAMPLE : four nucleotides of DNA "
   ]
  },
  {
   "cell_type": "code",
   "execution_count": 68,
   "id": "d4aae1bf",
   "metadata": {},
   "outputs": [
    {
     "data": {
      "text/html": [
       "0.003662109375"
      ],
      "text/latex": [
       "0.003662109375"
      ],
      "text/markdown": [
       "0.003662109375"
      ],
      "text/plain": [
       "[1] 0.003662109"
      ]
     },
     "metadata": {},
     "output_type": "display_data"
    },
    {
     "data": {
      "text/html": [
       "<table class=\"dataframe\">\n",
       "<caption>A matrix: 1 × 4 of type int</caption>\n",
       "<tbody>\n",
       "\t<tr><td>5</td><td>1</td><td>1</td><td>1</td></tr>\n",
       "</tbody>\n",
       "</table>\n"
      ],
      "text/latex": [
       "A matrix: 1 × 4 of type int\n",
       "\\begin{tabular}{llll}\n",
       "\t 5 & 1 & 1 & 1\\\\\n",
       "\\end{tabular}\n"
      ],
      "text/markdown": [
       "\n",
       "A matrix: 1 × 4 of type int\n",
       "\n",
       "| 5 | 1 | 1 | 1 |\n",
       "\n"
      ],
      "text/plain": [
       "     [,1] [,2] [,3] [,4]\n",
       "[1,] 5    1    1    1   "
      ]
     },
     "metadata": {},
     "output_type": "display_data"
    },
    {
     "data": {
      "text/html": [
       "<table class=\"dataframe\">\n",
       "<caption>A matrix: 4 × 1 of type int</caption>\n",
       "<tbody>\n",
       "\t<tr><td>1</td></tr>\n",
       "\t<tr><td>1</td></tr>\n",
       "\t<tr><td>0</td></tr>\n",
       "\t<tr><td>6</td></tr>\n",
       "</tbody>\n",
       "</table>\n"
      ],
      "text/latex": [
       "A matrix: 4 × 1 of type int\n",
       "\\begin{tabular}{l}\n",
       "\t 1\\\\\n",
       "\t 1\\\\\n",
       "\t 0\\\\\n",
       "\t 6\\\\\n",
       "\\end{tabular}\n"
      ],
      "text/markdown": [
       "\n",
       "A matrix: 4 × 1 of type int\n",
       "\n",
       "| 1 |\n",
       "| 1 |\n",
       "| 0 |\n",
       "| 6 |\n",
       "\n"
      ],
      "text/plain": [
       "     [,1]\n",
       "[1,] 1   \n",
       "[2,] 1   \n",
       "[3,] 0   \n",
       "[4,] 6   "
      ]
     },
     "metadata": {},
     "output_type": "display_data"
    }
   ],
   "source": [
    "dmultinom(c(4,2,0,0), prob=rep(1/4,4))\n",
    "pvec = rep(1/4, 4)\n",
    "t(rmultinom(1, prob = pvec, size = 8))\n"
   ]
  }
 ],
 "metadata": {
  "kernelspec": {
   "display_name": "R",
   "language": "R",
   "name": "ir"
  },
  "language_info": {
   "codemirror_mode": "r",
   "file_extension": ".r",
   "mimetype": "text/x-r-source",
   "name": "R",
   "pygments_lexer": "r",
   "version": "4.2.1"
  }
 },
 "nbformat": 4,
 "nbformat_minor": 5
}
